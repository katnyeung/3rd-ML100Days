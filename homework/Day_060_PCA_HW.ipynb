{
 "cells": [
  {
   "cell_type": "markdown",
   "metadata": {},
   "source": [
    "# 使用手寫辨識資料集, 觀察 PCA 算法"
   ]
  },
  {
   "cell_type": "markdown",
   "metadata": {},
   "source": [
    "# [作業目標]\n",
    "- 試著模仿範例寫法, 以變更參數後的 PCA + 邏輯斯迴歸判斷手寫辨識資料集, 觀察不同 component 下正確率的變化"
   ]
  },
  {
   "cell_type": "markdown",
   "metadata": {},
   "source": [
    "# [作業重點]\n",
    "- 以手寫辨識資料集, 觀察變更參數後的 PCA 算法, 在取不同 component 時, PCA 解釋度與分類正確率如何變化 (In[5], Out[5])"
   ]
  },
  {
   "cell_type": "code",
   "execution_count": 1,
   "metadata": {},
   "outputs": [],
   "source": [
    "# 載入套件\n",
    "import numpy as np\n",
    "import matplotlib.pyplot as plt\n",
    "import pandas as pd\n",
    "\n",
    "from sklearn import datasets\n",
    "from sklearn.decomposition import PCA\n",
    "from sklearn.linear_model import SGDClassifier\n",
    "from sklearn.pipeline import Pipeline\n",
    "from sklearn.model_selection import GridSearchCV\n",
    "import warnings\n",
    "warnings.filterwarnings(\"ignore\")"
   ]
  },
  {
   "cell_type": "code",
   "execution_count": 2,
   "metadata": {},
   "outputs": [],
   "source": [
    "# 定義 PCA 與隨後的羅吉斯迴歸函數\n",
    "# penalty 改為 L1, max_iter 改為 100\n",
    "logistic = SGDClassifier(loss='log', penalty='l1', max_iter=100, tol=1e-5, random_state=0)\n",
    "pca = PCA()\n",
    "pipe = Pipeline(steps=[('pca', pca), ('logistic', logistic)])\n",
    "\n",
    "# 載入手寫數字辨識集\n",
    "digits = datasets.load_digits()\n",
    "X_digits = digits.data\n",
    "y_digits = digits.target"
   ]
  },
  {
   "cell_type": "markdown",
   "metadata": {},
   "source": [
    "# 作業\n",
    "* 將參數 penalty 改為 L1, max_iter 改為 100, 觀察 PCA 與羅吉斯迴歸做手寫辨識的效果"
   ]
  },
  {
   "cell_type": "code",
   "execution_count": 3,
   "metadata": {},
   "outputs": [
    {
     "name": "stdout",
     "output_type": "stream",
     "text": [
      "Best parameter (CV score=0.909):\n",
      "{'logistic__alpha': 0.0001, 'pca__n_components': 30}\n"
     ]
    }
   ],
   "source": [
    "# 先執行 GridSearchCV 跑出最佳參數\n",
    "param_grid = {\n",
    "    'pca__n_components': [4, 10, 20, 30, 40, 50, 64],\n",
    "    'logistic__alpha': np.logspace(-4, 4, 5),\n",
    "}\n",
    "search = GridSearchCV(pipe, param_grid, iid=False, cv=5, return_train_score=False)\n",
    "search.fit(X_digits, y_digits)\n",
    "print(\"Best parameter (CV score=%0.3f):\" % search.best_score_)\n",
    "print(search.best_params_)"
   ]
  },
  {
   "cell_type": "code",
   "execution_count": 4,
   "metadata": {},
   "outputs": [
    {
     "data": {
      "image/png": "[encoded data removed]",
      "text/plain": [
       "<Figure size 432x432 with 2 Axes>"
      ]
     },
     "metadata": {
      "needs_background": "light"
     },
     "output_type": "display_data"
    }
   ],
   "source": [
    "# 繪製不同 components 的 PCA 解釋度\n",
    "pca.fit(X_digits)\n",
    "\n",
    "fig, (ax0, ax1) = plt.subplots(nrows=2, sharex=True, figsize=(6, 6))\n",
    "ax0.plot(pca.explained_variance_ratio_, linewidth=2)\n",
    "ax0.set_ylabel('PCA explained variance')\n",
    "\n",
    "ax0.axvline(search.best_estimator_.named_steps['pca'].n_components, linestyle=':', label='n_components chosen')\n",
    "ax0.legend(prop=dict(size=12))\n",
    "\n",
    "# 繪製不同採樣點的分類正確率\n",
    "results = pd.DataFrame(search.cv_results_)\n",
    "components_col = 'param_pca__n_components'\n",
    "best_clfs = results.groupby(components_col).apply(lambda g: g.nlargest(1, 'mean_test_score'))\n",
    "\n",
    "best_clfs.plot(x=components_col, y='mean_test_score', yerr='std_test_score', legend=False, ax=ax1)\n",
    "ax1.set_ylabel('Classification accuracy (val)')\n",
    "ax1.set_xlabel('n_components')\n",
    "plt.tight_layout()\n",
    "plt.show()"
   ]
  },
  {
   "cell_type": "code",
   "execution_count": 7,
   "metadata": {},
   "outputs": [
    {
     "name": "stdout",
     "output_type": "stream",
     "text": [
      "{'mean_fit_time': array([0.11516676, 0.0735621 , 0.09005733, 0.11099982, 0.12518725,\n",
      "       0.15954247, 0.19423056, 0.09413743, 0.09796019, 0.19427075,\n",
      "       0.27568984, 0.46373792, 0.63490686, 0.79587207, 0.08726358,\n",
      "       0.10736003, 0.17073178, 0.20625353, 0.27275548, 0.30686293,\n",
      "       0.36286263, 0.28751516, 0.40070944, 0.58734384, 0.74855037,\n",
      "       0.93143554, 1.07113733, 1.30314364, 0.02930226, 0.03629746,\n",
      "       0.05168777, 0.06734004, 0.0830821 , 0.09904432, 0.10930676]), 'std_fit_time': array([3.83645804e-02, 1.39979181e-02, 8.02451322e-03, 8.46712847e-03,\n",
      "       1.07911605e-02, 1.74580541e-02, 1.17013261e-02, 7.55310524e-03,\n",
      "       7.68645548e-03, 3.66408638e-02, 3.37063796e-02, 5.64571230e-02,\n",
      "       7.84444660e-02, 9.21909295e-02, 1.02127249e-02, 1.32159270e-02,\n",
      "       2.94246021e-02, 4.11369695e-02, 5.38470252e-02, 5.66961028e-02,\n",
      "       7.14554127e-02, 1.87449270e-03, 2.78173661e-02, 2.31237476e-02,\n",
      "       8.14102207e-03, 1.16459670e-02, 1.21598563e-02, 1.36585448e-02,\n",
      "       2.33674758e-04, 3.80066783e-04, 5.07448392e-05, 3.83538229e-04,\n",
      "       4.68075134e-04, 1.97990949e-03, 7.77724408e-04]), 'mean_score_time': array([0.00076694, 0.00061693, 0.0006237 , 0.0006475 , 0.00071754,\n",
      "       0.00075402, 0.00069327, 0.00059605, 0.00061688, 0.0008635 ,\n",
      "       0.0007853 , 0.00087037, 0.00084987, 0.00082035, 0.00061154,\n",
      "       0.00064163, 0.00075355, 0.00072327, 0.00089722, 0.00092912,\n",
      "       0.00094833, 0.00085711, 0.00087104, 0.00094585, 0.0008884 ,\n",
      "       0.0008884 , 0.00084443, 0.00087891, 0.00057821, 0.00059943,\n",
      "       0.00061531, 0.00062656, 0.00063019, 0.00065093, 0.00067983]), 'std_score_time': array([2.08624589e-04, 5.24650904e-06, 2.98166241e-06, 8.88812184e-06,\n",
      "       1.04477796e-04, 1.83960290e-05, 3.68655263e-05, 3.06439762e-06,\n",
      "       5.94155172e-06, 1.67638164e-04, 1.77473128e-05, 5.52453662e-05,\n",
      "       6.86379885e-05, 5.44483311e-05, 1.30177418e-05, 3.61319876e-05,\n",
      "       5.10900697e-05, 6.87258831e-05, 6.07505136e-05, 2.22663041e-05,\n",
      "       2.39748109e-05, 1.28223986e-05, 2.32970944e-05, 4.96903215e-05,\n",
      "       3.00976049e-05, 6.30373313e-05, 7.95292908e-05, 8.37146809e-05,\n",
      "       1.11216581e-06, 2.66517422e-06, 9.11170806e-06, 4.16789501e-06,\n",
      "       3.41663058e-06, 1.17648396e-05, 1.67834487e-05]), 'param_logistic__alpha': masked_array(data=[0.0001, 0.0001, 0.0001, 0.0001, 0.0001, 0.0001, 0.0001,\n",
      "                   0.01, 0.01, 0.01, 0.01, 0.01, 0.01, 0.01, 1.0, 1.0,\n",
      "                   1.0, 1.0, 1.0, 1.0, 1.0, 100.0, 100.0, 100.0, 100.0,\n",
      "                   100.0, 100.0, 100.0, 10000.0, 10000.0, 10000.0,\n",
      "                   10000.0, 10000.0, 10000.0, 10000.0],\n",
      "             mask=[False, False, False, False, False, False, False, False,\n",
      "                   False, False, False, False, False, False, False, False,\n",
      "                   False, False, False, False, False, False, False, False,\n",
      "                   False, False, False, False, False, False, False, False,\n",
      "                   False, False, False],\n",
      "       fill_value='?',\n",
      "            dtype=object), 'param_pca__n_components': masked_array(data=[4, 10, 20, 30, 40, 50, 64, 4, 10, 20, 30, 40, 50, 64,\n",
      "                   4, 10, 20, 30, 40, 50, 64, 4, 10, 20, 30, 40, 50, 64,\n",
      "                   4, 10, 20, 30, 40, 50, 64],\n",
      "             mask=[False, False, False, False, False, False, False, False,\n",
      "                   False, False, False, False, False, False, False, False,\n",
      "                   False, False, False, False, False, False, False, False,\n",
      "                   False, False, False, False, False, False, False, False,\n",
      "                   False, False, False],\n",
      "       fill_value='?',\n",
      "            dtype=object), 'params': [{'logistic__alpha': 0.0001, 'pca__n_components': 4}, {'logistic__alpha': 0.0001, 'pca__n_components': 10}, {'logistic__alpha': 0.0001, 'pca__n_components': 20}, {'logistic__alpha': 0.0001, 'pca__n_components': 30}, {'logistic__alpha': 0.0001, 'pca__n_components': 40}, {'logistic__alpha': 0.0001, 'pca__n_components': 50}, {'logistic__alpha': 0.0001, 'pca__n_components': 64}, {'logistic__alpha': 0.01, 'pca__n_components': 4}, {'logistic__alpha': 0.01, 'pca__n_components': 10}, {'logistic__alpha': 0.01, 'pca__n_components': 20}, {'logistic__alpha': 0.01, 'pca__n_components': 30}, {'logistic__alpha': 0.01, 'pca__n_components': 40}, {'logistic__alpha': 0.01, 'pca__n_components': 50}, {'logistic__alpha': 0.01, 'pca__n_components': 64}, {'logistic__alpha': 1.0, 'pca__n_components': 4}, {'logistic__alpha': 1.0, 'pca__n_components': 10}, {'logistic__alpha': 1.0, 'pca__n_components': 20}, {'logistic__alpha': 1.0, 'pca__n_components': 30}, {'logistic__alpha': 1.0, 'pca__n_components': 40}, {'logistic__alpha': 1.0, 'pca__n_components': 50}, {'logistic__alpha': 1.0, 'pca__n_components': 64}, {'logistic__alpha': 100.0, 'pca__n_components': 4}, {'logistic__alpha': 100.0, 'pca__n_components': 10}, {'logistic__alpha': 100.0, 'pca__n_components': 20}, {'logistic__alpha': 100.0, 'pca__n_components': 30}, {'logistic__alpha': 100.0, 'pca__n_components': 40}, {'logistic__alpha': 100.0, 'pca__n_components': 50}, {'logistic__alpha': 100.0, 'pca__n_components': 64}, {'logistic__alpha': 10000.0, 'pca__n_components': 4}, {'logistic__alpha': 10000.0, 'pca__n_components': 10}, {'logistic__alpha': 10000.0, 'pca__n_components': 20}, {'logistic__alpha': 10000.0, 'pca__n_components': 30}, {'logistic__alpha': 10000.0, 'pca__n_components': 40}, {'logistic__alpha': 10000.0, 'pca__n_components': 50}, {'logistic__alpha': 10000.0, 'pca__n_components': 64}], 'split0_test_score': array([0.73626374, 0.91758242, 0.93681319, 0.92307692, 0.9010989 ,\n",
      "       0.8956044 , 0.90384615, 0.77197802, 0.90659341, 0.92582418,\n",
      "       0.92032967, 0.90659341, 0.91758242, 0.91483516, 0.4478022 ,\n",
      "       0.53846154, 0.53296703, 0.51373626, 0.51373626, 0.51373626,\n",
      "       0.51373626, 0.10164835, 0.10164835, 0.10164835, 0.10164835,\n",
      "       0.10164835, 0.10164835, 0.10164835, 0.10164835, 0.10164835,\n",
      "       0.10164835, 0.10164835, 0.10164835, 0.10164835, 0.10164835]), 'split1_test_score': array([0.59116022, 0.83977901, 0.85359116, 0.85359116, 0.83149171,\n",
      "       0.8480663 , 0.83149171, 0.70165746, 0.86187845, 0.87016575,\n",
      "       0.88674033, 0.87292818, 0.83977901, 0.83425414, 0.45303867,\n",
      "       0.5359116 , 0.53314917, 0.53867403, 0.5359116 , 0.5359116 ,\n",
      "       0.5359116 , 0.09944751, 0.09944751, 0.09944751, 0.09944751,\n",
      "       0.09944751, 0.09944751, 0.09944751, 0.09944751, 0.09944751,\n",
      "       0.09944751, 0.09944751, 0.09944751, 0.09944751, 0.09944751]), 'split2_test_score': array([0.68245125, 0.8913649 , 0.92200557, 0.91922006, 0.92200557,\n",
      "       0.94428969, 0.94707521, 0.80501393, 0.89693593, 0.90250696,\n",
      "       0.90807799, 0.90807799, 0.91086351, 0.90529248, 0.45961003,\n",
      "       0.51532033, 0.48746518, 0.48746518, 0.4902507 , 0.48746518,\n",
      "       0.48746518, 0.10027855, 0.10027855, 0.10027855, 0.10027855,\n",
      "       0.10027855, 0.10027855, 0.10027855, 0.10027855, 0.10027855,\n",
      "       0.10027855, 0.10027855, 0.10027855, 0.10027855, 0.10027855]), 'split3_test_score': array([0.68627451, 0.90196078, 0.93837535, 0.95518207, 0.93837535,\n",
      "       0.95518207, 0.95798319, 0.77591036, 0.91316527, 0.95238095,\n",
      "       0.93837535, 0.91596639, 0.94117647, 0.93557423, 0.4929972 ,\n",
      "       0.49019608, 0.5070028 , 0.41736695, 0.41736695, 0.41736695,\n",
      "       0.41736695, 0.10084034, 0.10084034, 0.10084034, 0.10084034,\n",
      "       0.10084034, 0.10084034, 0.10084034, 0.10084034, 0.10084034,\n",
      "       0.10084034, 0.10084034, 0.10084034, 0.10084034, 0.10084034]), 'split4_test_score': array([0.62253521, 0.84225352, 0.88169014, 0.89295775, 0.89295775,\n",
      "       0.86478873, 0.87323944, 0.74929577, 0.83661972, 0.89014085,\n",
      "       0.88732394, 0.88732394, 0.88169014, 0.88169014, 0.33802817,\n",
      "       0.4       , 0.37183099, 0.37746479, 0.38028169, 0.38028169,\n",
      "       0.38028169, 0.10140845, 0.10140845, 0.10140845, 0.10140845,\n",
      "       0.10140845, 0.10140845, 0.10140845, 0.10140845, 0.10140845,\n",
      "       0.10140845, 0.10140845, 0.10140845, 0.10140845, 0.10140845]), 'mean_test_score': array([0.66373699, 0.87858813, 0.90649508, 0.90880559, 0.89718586,\n",
      "       0.90158624, 0.90272714, 0.76077111, 0.88303856, 0.90820374,\n",
      "       0.90816946, 0.89817798, 0.89821831, 0.89432923, 0.43829525,\n",
      "       0.49597791, 0.48648303, 0.46694144, 0.46750944, 0.46695234,\n",
      "       0.46695234, 0.10072464, 0.10072464, 0.10072464, 0.10072464,\n",
      "       0.10072464, 0.10072464, 0.10072464, 0.10072464, 0.10072464,\n",
      "       0.10072464, 0.10072464, 0.10072464, 0.10072464, 0.10072464]), 'std_test_score': array([0.05115323, 0.03180073, 0.03343718, 0.03394907, 0.03650069,\n",
      "       0.04230915, 0.04683   , 0.03446252, 0.02918234, 0.02852268,\n",
      "       0.01976875, 0.01575195, 0.0348385 , 0.0346716 , 0.05255066,\n",
      "       0.0510272 , 0.05984247, 0.06036596, 0.05908619, 0.05888192,\n",
      "       0.05888192, 0.00079552, 0.00079552, 0.00079552, 0.00079552,\n",
      "       0.00079552, 0.00079552, 0.00079552, 0.00079552, 0.00079552,\n",
      "       0.00079552, 0.00079552, 0.00079552, 0.00079552, 0.00079552]), 'rank_test_score': array([14, 12,  4,  1,  9,  6,  5, 13, 11,  2,  3,  8,  7, 10, 21, 15, 16,\n",
      "       20, 17, 18, 18, 22, 22, 22, 22, 22, 22, 22, 22, 22, 22, 22, 22, 22,\n",
      "       22], dtype=int32)}\n"
     ]
    }
   ],
   "source": [
    "# 繪製不同採樣點的分類正確率\n",
    "#print(search.best_estimator_)\n",
    "print(search.cv_results_)"
   ]
  },
  {
   "cell_type": "code",
   "execution_count": null,
   "metadata": {},
   "outputs": [],
   "source": []
  },
  {
   "cell_type": "code",
   "execution_count": null,
   "metadata": {},
   "outputs": [],
   "source": []
  },
  {
   "cell_type": "code",
   "execution_count": null,
   "metadata": {},
   "outputs": [],
   "source": []
  }
 ],
 "metadata": {
  "kernelspec": {
   "display_name": "Python 3",
   "language": "python",
   "name": "python3"
  },
  "language_info": {
   "codemirror_mode": {
    "name": "ipython",
    "version": 3
   },
   "file_extension": ".py",
   "mimetype": "text/x-python",
   "name": "python",
   "nbconvert_exporter": "python",
   "pygments_lexer": "ipython3",
   "version": "3.7.3"
  }
 },
 "nbformat": 4,
 "nbformat_minor": 1
}
