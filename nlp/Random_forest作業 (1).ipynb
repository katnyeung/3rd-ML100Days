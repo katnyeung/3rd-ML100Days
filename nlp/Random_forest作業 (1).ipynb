{
 "cells": [
  {
   "cell_type": "markdown",
   "metadata": {},
   "source": [
    "### 作業目的: 了解何謂Bias-Variance Tradeoff"
   ]
  },
  {
   "cell_type": "markdown",
   "metadata": {},
   "source": [
    "### Q1: 一般模型誤差可拆為三部分，這三部分的誤差分別是？\n",
    "\n",
    "Answer: \n",
    "High bias. While the model was classified all the data not in the right track, aka Underfitting\n",
    "High variant. The model highly classified with the training data, However the testing data were barely correct, this also called the generalization problem, aka the Overfitting.\n",
    "High noise. When the feature data are full of noise, the model can't make good assumption or even a random assumption, this aka the Irreducible error."
   ]
  },
  {
   "cell_type": "markdown",
   "metadata": {},
   "source": [
    "### Q2: 請解釋何謂Bias-Variance Tradeoff\n",
    "\n",
    "Answer:"
   ]
  },
  {
   "cell_type": "code",
   "execution_count": null,
   "metadata": {},
   "outputs": [],
   "source": [
    "The goal of machine learning are always targeting low bais and low variance. \n",
    "however the bias variance contains a opposite relation.\n",
    "\n",
    "Low bias may leading to high variance.\n",
    "We want to classify all the data correctly, this will fluctuate the prediction line and become the Overfitting.\n",
    "\n",
    "Low variance may trigger high bias. The case is similar as above, while with the low variance, the prediction line would be very stright forward.\n",
    "The prediction may accurate in first section, However the variance will getting larger and larger when the value growth.\n"
   ]
  }
 ],
 "metadata": {
  "kernelspec": {
   "display_name": "Python 3",
   "language": "python",
   "name": "python3"
  },
  "language_info": {
   "codemirror_mode": {
    "name": "ipython",
    "version": 3
   },
   "file_extension": ".py",
   "mimetype": "text/x-python",
   "name": "python",
   "nbconvert_exporter": "python",
   "pygments_lexer": "ipython3",
   "version": "3.8.5"
  }
 },
 "nbformat": 4,
 "nbformat_minor": 2
}
