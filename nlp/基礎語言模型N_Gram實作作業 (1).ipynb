{
 "cells": [
  {
   "cell_type": "markdown",
   "metadata": {},
   "source": [
    "### 作業目的: 使用N-Gram模型預測文字\n",
    "\n",
    "本次作業會使用[桃園市官網市政新聞](https://data.gov.tw/dataset/25891)來進行練習"
   ]
  },
  {
   "cell_type": "markdown",
   "metadata": {},
   "source": [
    "### 載入所需的Libraries"
   ]
  },
  {
   "cell_type": "code",
   "execution_count": 1,
   "metadata": {},
   "outputs": [],
   "source": [
    "import json\n",
    "import re\n",
    "from collections import Counter, namedtuple"
   ]
  },
  {
   "cell_type": "markdown",
   "metadata": {},
   "source": [
    "### 載入資料"
   ]
  },
  {
   "cell_type": "code",
   "execution_count": 2,
   "metadata": {},
   "outputs": [],
   "source": [
    "with open('./WebNews.json', 'r') as f:\n",
    "    news_data = json.load(f)"
   ]
  },
  {
   "cell_type": "code",
   "execution_count": null,
   "metadata": {},
   "outputs": [],
   "source": [
    "news_data[:2]"
   ]
  },
  {
   "cell_type": "markdown",
   "metadata": {},
   "source": [
    "### 進行資料清洗\n",
    "觀察上面的資料，資料包含許多其他的資訊，我們需要將真正的新聞內文取出，並且對內文進行文字清洗。\n",
    "請做以下的文字處理:\n",
    "\n",
    "1. 取出新聞內文\n",
    "2. 去除HTML Tags\n",
    "3. 移除標點符號，只保留英文、數字、中文"
   ]
  },
  {
   "cell_type": "code",
   "execution_count": null,
   "metadata": {
    "scrolled": true
   },
   "outputs": [],
   "source": [
    "#取出新聞內文\n",
    "corpus_list = [content['detailcontent'] for content in news_data]\n",
    "\n",
    "#去除HTML Tags與標點符號(只保留英文、數字、中文)\n",
    "corpus_list =  [re.sub('<[^<]+?>', '', corpus) for corpus in corpus_list]\n",
    "corpus_list[0]\n",
    "\n",
    "#print(len(corpus_list))\n",
    "N = 3\n",
    "test = [tuple(corpus_list[0][i:i+N]) for i in range(len(corpus_list[0])-N+1)]\n",
    "print(test)\n",
    "print(Counter(test))"
   ]
  },
  {
   "cell_type": "markdown",
   "metadata": {},
   "source": [
    "### 建立N-Gram模型\n",
    "N-Gram模型在計算詞機率時為(以Trigram為例)\n",
    "$$\n",
    "P(W_i|W_{i-1},W_{i-2}) = \\frac{count(W_i,W_{i-1},W_{i-2})}{count(W_{i-1},W_{i-2})}\n",
    "$$\n",
    "\n",
    "舉例來說\n",
    "$$\n",
    "P(the|this,is) = \\frac{count(this\\ is\\ the)}{count(this\\ is)}\n",
    "$$"
   ]
  },
  {
   "cell_type": "code",
   "execution_count": 40,
   "metadata": {},
   "outputs": [],
   "source": [
    "def ngram(documents, N=2):\n",
    "    \n",
    "    #建立儲存預測字, 所有ngram詞頻字典, 所有字詞(分母)\n",
    "    ngram_prediction = dict()\n",
    "    total_grams = list()\n",
    "    words = list()\n",
    "    Word = namedtuple('Word', ['word', 'prob']) #使用namedtuple來儲存預測字詞與對應機率\n",
    "\n",
    "    for doc in documents:\n",
    "        # 在每個文章錢加上起始(<start>)與結束符號(<end>)\n",
    "        split_words = f\"{doc}\"\n",
    "        # 計算分子\n",
    "        [total_grams.append(tuple(split_words[i:i+N])) for i in range(len(split_words)-N+1)]\n",
    "        # 計算分母\n",
    "        [words.append(tuple(split_words[i:i+N-1])) for i in range(len(split_words)-N+2)]\n",
    "    \n",
    "    #計算分子詞頻\n",
    "    total_word_counter = Counter(total_grams)\n",
    "    #計算分母詞頻\n",
    "    word_counter = Counter(words)\n",
    "    \n",
    "    \n",
    "    #計算所有N-gram預測字詞的機率\n",
    "    for key in total_word_counter:\n",
    "        word = ''.join(key[:N-1])\n",
    "        if word not in ngram_prediction:\n",
    "            ngram_prediction.update({word: set()})\n",
    "            \n",
    "        ngram_prediction[word].add(Word(key[-1], total_word_counter[key]/word_counter[key[:N-1]]))\n",
    "        \n",
    "    return ngram_prediction"
   ]
  },
  {
   "cell_type": "markdown",
   "metadata": {},
   "source": [
    "### 使用N-Gram模型進行預測\n",
    "這裡我們使用4 gram模型，也就是輸入三個字之後，第四個字出現的機率，並將輸出依據機率做排序"
   ]
  },
  {
   "cell_type": "code",
   "execution_count": 44,
   "metadata": {},
   "outputs": [],
   "source": [
    "#建立four_gram模型，並將預測的機率按照大小排列\n",
    "four_gram_pred = ngram(corpus_list, 3)\n",
    "for word, pred in four_gram_pred.items():\n",
    "    ### <your code> ###\n",
    "    sorted(pred, key=lambda x: x.prob, reverse=True)"
   ]
  },
  {
   "cell_type": "code",
   "execution_count": null,
   "metadata": {
    "scrolled": true
   },
   "outputs": [],
   "source": [
    "# 執行時因為字典數龐大，顯示會較慢\n",
    "four_gram_pred"
   ]
  },
  {
   "cell_type": "code",
   "execution_count": 46,
   "metadata": {},
   "outputs": [
    {
     "name": "stdout",
     "output_type": "stream",
     "text": [
      "next word: 帶, probability: 0.0004166666666666667\n",
      "next word: 肖, probability: 0.00020833333333333335\n",
      "next word: 自, probability: 0.00020833333333333335\n",
      "next word: 多, probability: 0.0004166666666666667\n",
      "next word: 主, probability: 0.0004166666666666667\n",
      "next word: 將, probability: 0.0008333333333333334\n",
      "next word: 已, probability: 0.0004166666666666667\n",
      "next word: :, probability: 0.00020833333333333335\n",
      "next word: 除, probability: 0.0014583333333333334\n",
      "next word: 更, probability: 0.0004166666666666667\n"
     ]
    }
   ],
   "source": [
    "#給定字詞，使用ngram預測下一個字的機率(顯示top 10)\n",
    "text = '市長'\n",
    "next_words = list(four_gram_pred[text])[:10]\n",
    "for next_word in next_words:\n",
    "    print('next word: {}, probability: {}'.format(next_word.word, next_word.prob))"
   ]
  },
  {
   "cell_type": "markdown",
   "metadata": {},
   "source": [
    "可自行嘗試使用不同的N搭建不同的N-Gram模型的效果"
   ]
  },
  {
   "cell_type": "code",
   "execution_count": null,
   "metadata": {},
   "outputs": [],
   "source": []
  }
 ],
 "metadata": {
  "kernelspec": {
   "display_name": "Python 3",
   "language": "python",
   "name": "python3"
  },
  "language_info": {
   "codemirror_mode": {
    "name": "ipython",
    "version": 3
   },
   "file_extension": ".py",
   "mimetype": "text/x-python",
   "name": "python",
   "nbconvert_exporter": "python",
   "pygments_lexer": "ipython3",
   "version": "3.8.5"
  }
 },
 "nbformat": 4,
 "nbformat_minor": 2
}
