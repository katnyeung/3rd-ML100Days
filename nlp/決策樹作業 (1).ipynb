{
 "cells": [
  {
   "cell_type": "markdown",
   "metadata": {},
   "source": [
    "### 作業目的:了解決策樹的節點分支依據\n",
    "本次作業可參考簡報中的延伸閱讀[訊息增益](https://medium.com/jameslearningnote/%E8%B3%87%E6%96%99%E5%88%86%E6%9E%90-%E6%A9%9F%E5%99%A8%E5%AD%B8%E7%BF%92-%E7%AC%AC3-5%E8%AC%9B-%E6%B1%BA%E7%AD%96%E6%A8%B9-decision-tree-%E4%BB%A5%E5%8F%8A%E9%9A%A8%E6%A9%9F%E6%A3%AE%E6%9E%97-random-forest-%E4%BB%8B%E7%B4%B9-7079b0ddfbda)部分"
   ]
  },
  {
   "cell_type": "markdown",
   "metadata": {},
   "source": [
    "#### Question:\n",
    "若你是決策樹，下列兩種分類狀況(a,b)，你會選擇哪種做分類？為什麼？\n",
    "\n",
    "<img src='hw_1.png' style='width:500px'>"
   ]
  },
  {
   "cell_type": "markdown",
   "metadata": {},
   "source": [
    "\n"
   ]
  },
  {
   "cell_type": "code",
   "execution_count": 22,
   "metadata": {},
   "outputs": [
    {
     "name": "stdout",
     "output_type": "stream",
     "text": [
      "0.125\n",
      "0.07142857142857134\n"
     ]
    }
   ],
   "source": [
    "#gini\n",
    "import numpy as np\n",
    "AidProb = 1 - (np.square(0.5) + np.square(0.5))\n",
    "AidLeft = 1 - (np.square(15/20) + np.square(5/20)) \n",
    "AidRight = 1 - (np.square(5/20) + np.square(15/20))\n",
    "Aig = AidProb - (20/40 * AidLeft) - (20/40 * AidRight)\n",
    "\n",
    "print(Aig)\n",
    "\n",
    "BidLeft = 1 - (np.square(15/35) + np.square(20/35)) \n",
    "BidRight = 1 - (np.square(5/5) + np.square(0/5))\n",
    "Big = AidProb - ((35/40) * BidLeft) - ((5/40) * BidRight)\n",
    "\n",
    "print(Big)"
   ]
  },
  {
   "cell_type": "code",
   "execution_count": 18,
   "metadata": {},
   "outputs": [
    {
     "name": "stdout",
     "output_type": "stream",
     "text": [
      "0.1887218755408671\n",
      "0.13792538097002993\n"
     ]
    }
   ],
   "source": [
    "#entropy\n",
    "AidProb = -(20/40 * np.log2(20/40) + 20/40 * np.log2(20/40))\n",
    "\n",
    "AidLeft = -(15/20 * np.log2(15/20) + 5/20 * np.log2(5/20))\n",
    "AidRight = -(5/20 * np.log2(5/20) + 15/20 * np.log2(15/20))\n",
    "Aig = AidProb - (20/40 * AidLeft) - (20/40 * AidRight)\n",
    "\n",
    "print(Aig)\n",
    "\n",
    "BidLeft = -((15/35) * np.log2(15/35) + (20/35) * np.log2(20/35))\n",
    "BidRight = -((5/5) * np.log2(5/5) + 0)\n",
    "Big = AidProb - (35/40 * BidLeft) - (5/40 * BidRight)\n",
    "\n",
    "print(Big)"
   ]
  },
  {
   "cell_type": "code",
   "execution_count": null,
   "metadata": {},
   "outputs": [],
   "source": [
    "#for the Entropy Methodology , solution (a) has the more disorder so it is a better solution,\n",
    "#however in the Gini Impurity, solution (b) has the lower value than (a) should it sould be a better option\n",
    "#in conslusion, i will choose solution (a) because it have more information gain\n"
   ]
  },
  {
   "cell_type": "markdown",
   "metadata": {},
   "source": [
    "### 閱讀作業\n",
    "\n",
    "決策樹根據計算分割準則的不同(ex: Entropy, Gini, Gain ratio)，可分為ID3, C4.5, CART樹的算法，請同學閱讀下列文章，來更加了解決策樹的算法。\n",
    "\n",
    "[決策樹(ID3, C4.5, CART)](https://blog.csdn.net/u010089444/article/details/53241218)"
   ]
  },
  {
   "cell_type": "code",
   "execution_count": null,
   "metadata": {},
   "outputs": [],
   "source": []
  }
 ],
 "metadata": {
  "kernelspec": {
   "display_name": "Python 3",
   "language": "python",
   "name": "python3"
  },
  "language_info": {
   "codemirror_mode": {
    "name": "ipython",
    "version": 3
   },
   "file_extension": ".py",
   "mimetype": "text/x-python",
   "name": "python",
   "nbconvert_exporter": "python",
   "pygments_lexer": "ipython3",
   "version": "3.8.5"
  }
 },
 "nbformat": 4,
 "nbformat_minor": 2
}
