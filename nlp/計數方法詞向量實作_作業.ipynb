{
 "cells": [
  {
   "cell_type": "markdown",
   "metadata": {},
   "source": [
    "### 載入所需的Libraries"
   ]
  },
  {
   "cell_type": "code",
   "execution_count": 1,
   "metadata": {},
   "outputs": [],
   "source": [
    "import re\n",
    "import pandas as pd\n",
    "import numpy as np\n",
    "import matplotlib.pyplot as plt\n",
    "from sklearn.model_selection import train_test_split\n",
    "from sklearn.feature_extraction.text import TfidfVectorizer\n",
    "from sklearn.decomposition import TruncatedSVD\n",
    "from typing import List"
   ]
  },
  {
   "cell_type": "markdown",
   "metadata": {},
   "source": [
    "### 載入資料"
   ]
  },
  {
   "cell_type": "code",
   "execution_count": 2,
   "metadata": {},
   "outputs": [
    {
     "data": {
      "text/html": [
       "<div>\n",
       "<style scoped>\n",
       "    .dataframe tbody tr th:only-of-type {\n",
       "        vertical-align: middle;\n",
       "    }\n",
       "\n",
       "    .dataframe tbody tr th {\n",
       "        vertical-align: top;\n",
       "    }\n",
       "\n",
       "    .dataframe thead th {\n",
       "        text-align: right;\n",
       "    }\n",
       "</style>\n",
       "<table border=\"1\" class=\"dataframe\">\n",
       "  <thead>\n",
       "    <tr style=\"text-align: right;\">\n",
       "      <th></th>\n",
       "      <th>v1</th>\n",
       "      <th>v2</th>\n",
       "      <th>Unnamed: 2</th>\n",
       "      <th>Unnamed: 3</th>\n",
       "      <th>Unnamed: 4</th>\n",
       "    </tr>\n",
       "  </thead>\n",
       "  <tbody>\n",
       "    <tr>\n",
       "      <th>0</th>\n",
       "      <td>ham</td>\n",
       "      <td>Go until jurong point, crazy.. Available only ...</td>\n",
       "      <td>NaN</td>\n",
       "      <td>NaN</td>\n",
       "      <td>NaN</td>\n",
       "    </tr>\n",
       "    <tr>\n",
       "      <th>1</th>\n",
       "      <td>ham</td>\n",
       "      <td>Ok lar... Joking wif u oni...</td>\n",
       "      <td>NaN</td>\n",
       "      <td>NaN</td>\n",
       "      <td>NaN</td>\n",
       "    </tr>\n",
       "    <tr>\n",
       "      <th>2</th>\n",
       "      <td>spam</td>\n",
       "      <td>Free entry in 2 a wkly comp to win FA Cup fina...</td>\n",
       "      <td>NaN</td>\n",
       "      <td>NaN</td>\n",
       "      <td>NaN</td>\n",
       "    </tr>\n",
       "    <tr>\n",
       "      <th>3</th>\n",
       "      <td>ham</td>\n",
       "      <td>U dun say so early hor... U c already then say...</td>\n",
       "      <td>NaN</td>\n",
       "      <td>NaN</td>\n",
       "      <td>NaN</td>\n",
       "    </tr>\n",
       "    <tr>\n",
       "      <th>4</th>\n",
       "      <td>ham</td>\n",
       "      <td>Nah I don't think he goes to usf, he lives aro...</td>\n",
       "      <td>NaN</td>\n",
       "      <td>NaN</td>\n",
       "      <td>NaN</td>\n",
       "    </tr>\n",
       "  </tbody>\n",
       "</table>\n",
       "</div>"
      ],
      "text/plain": [
       "     v1                                                 v2 Unnamed: 2  \\\n",
       "0   ham  Go until jurong point, crazy.. Available only ...        NaN   \n",
       "1   ham                      Ok lar... Joking wif u oni...        NaN   \n",
       "2  spam  Free entry in 2 a wkly comp to win FA Cup fina...        NaN   \n",
       "3   ham  U dun say so early hor... U c already then say...        NaN   \n",
       "4   ham  Nah I don't think he goes to usf, he lives aro...        NaN   \n",
       "\n",
       "  Unnamed: 3 Unnamed: 4  \n",
       "0        NaN        NaN  \n",
       "1        NaN        NaN  \n",
       "2        NaN        NaN  \n",
       "3        NaN        NaN  \n",
       "4        NaN        NaN  "
      ]
     },
     "execution_count": 2,
     "metadata": {},
     "output_type": "execute_result"
    }
   ],
   "source": [
    "# read data from spam.csv\n",
    "\n",
    "sms_data = pd.read_csv('spam.csv')\n",
    "sms_data.head()"
   ]
  },
  {
   "cell_type": "code",
   "execution_count": 3,
   "metadata": {},
   "outputs": [
    {
     "name": "stdout",
     "output_type": "stream",
     "text": [
      "v1\n",
      "ham     4825\n",
      "spam     747\n",
      "dtype: int64\n"
     ]
    }
   ],
   "source": [
    "# check how many spams and hams\n",
    "print(sms_data.groupby('v1').size())"
   ]
  },
  {
   "cell_type": "code",
   "execution_count": 4,
   "metadata": {},
   "outputs": [
    {
     "data": {
      "text/html": [
       "<div>\n",
       "<style scoped>\n",
       "    .dataframe tbody tr th:only-of-type {\n",
       "        vertical-align: middle;\n",
       "    }\n",
       "\n",
       "    .dataframe tbody tr th {\n",
       "        vertical-align: top;\n",
       "    }\n",
       "\n",
       "    .dataframe thead th {\n",
       "        text-align: right;\n",
       "    }\n",
       "</style>\n",
       "<table border=\"1\" class=\"dataframe\">\n",
       "  <thead>\n",
       "    <tr style=\"text-align: right;\">\n",
       "      <th></th>\n",
       "      <th>label</th>\n",
       "      <th>v2</th>\n",
       "      <th>Unnamed: 2</th>\n",
       "      <th>Unnamed: 3</th>\n",
       "      <th>Unnamed: 4</th>\n",
       "    </tr>\n",
       "  </thead>\n",
       "  <tbody>\n",
       "    <tr>\n",
       "      <th>0</th>\n",
       "      <td>0</td>\n",
       "      <td>Go until jurong point, crazy.. Available only ...</td>\n",
       "      <td>NaN</td>\n",
       "      <td>NaN</td>\n",
       "      <td>NaN</td>\n",
       "    </tr>\n",
       "    <tr>\n",
       "      <th>1</th>\n",
       "      <td>0</td>\n",
       "      <td>Ok lar... Joking wif u oni...</td>\n",
       "      <td>NaN</td>\n",
       "      <td>NaN</td>\n",
       "      <td>NaN</td>\n",
       "    </tr>\n",
       "    <tr>\n",
       "      <th>2</th>\n",
       "      <td>1</td>\n",
       "      <td>Free entry in 2 a wkly comp to win FA Cup fina...</td>\n",
       "      <td>NaN</td>\n",
       "      <td>NaN</td>\n",
       "      <td>NaN</td>\n",
       "    </tr>\n",
       "    <tr>\n",
       "      <th>3</th>\n",
       "      <td>0</td>\n",
       "      <td>U dun say so early hor... U c already then say...</td>\n",
       "      <td>NaN</td>\n",
       "      <td>NaN</td>\n",
       "      <td>NaN</td>\n",
       "    </tr>\n",
       "    <tr>\n",
       "      <th>4</th>\n",
       "      <td>0</td>\n",
       "      <td>Nah I don't think he goes to usf, he lives aro...</td>\n",
       "      <td>NaN</td>\n",
       "      <td>NaN</td>\n",
       "      <td>NaN</td>\n",
       "    </tr>\n",
       "  </tbody>\n",
       "</table>\n",
       "</div>"
      ],
      "text/plain": [
       "   label                                                 v2 Unnamed: 2  \\\n",
       "0      0  Go until jurong point, crazy.. Available only ...        NaN   \n",
       "1      0                      Ok lar... Joking wif u oni...        NaN   \n",
       "2      1  Free entry in 2 a wkly comp to win FA Cup fina...        NaN   \n",
       "3      0  U dun say so early hor... U c already then say...        NaN   \n",
       "4      0  Nah I don't think he goes to usf, he lives aro...        NaN   \n",
       "\n",
       "  Unnamed: 3 Unnamed: 4  \n",
       "0        NaN        NaN  \n",
       "1        NaN        NaN  \n",
       "2        NaN        NaN  \n",
       "3        NaN        NaN  \n",
       "4        NaN        NaN  "
      ]
     },
     "execution_count": 4,
     "metadata": {},
     "output_type": "execute_result"
    }
   ],
   "source": [
    "# change label to from string to number\n",
    "# \"ham\" --> 0, \"spam\" --> 1\n",
    "sms_data['v1'] = sms_data['v1'].map({'spam': 1, 'ham': 0})\n",
    "sms_data = sms_data.rename(columns={'v1': 'label'})\n",
    "###<your code>###\n",
    "sms_data.head()"
   ]
  },
  {
   "cell_type": "markdown",
   "metadata": {},
   "source": [
    "### 切分資料\n",
    "將資料依據label比例切分為training data與testing data"
   ]
  },
  {
   "cell_type": "code",
   "execution_count": 5,
   "metadata": {},
   "outputs": [
    {
     "name": "stdout",
     "output_type": "stream",
     "text": [
      "         v2\n",
      "label      \n",
      "0      3868\n",
      "1       589\n",
      "        v2\n",
      "label     \n",
      "0      957\n",
      "1      158\n"
     ]
    }
   ],
   "source": [
    "sms_data = sms_data.drop(sms_data.columns[[ 2, 3,4]], axis=1)\n",
    "sms_train, sms_test = train_test_split(sms_data, test_size=0.2)\n",
    "\n",
    "print(sms_train.groupby(\"label\").count())\n",
    "print(sms_test.groupby(\"label\").count())"
   ]
  },
  {
   "cell_type": "markdown",
   "metadata": {},
   "source": [
    "### 資料預處理\n",
    "* 將所有字詞轉為小寫\n",
    "* 移除所有數字、標點符號"
   ]
  },
  {
   "cell_type": "code",
   "execution_count": 10,
   "metadata": {
    "scrolled": true
   },
   "outputs": [
    {
     "name": "stderr",
     "output_type": "stream",
     "text": [
      "/home/katnyeung/python_projects/python_env/lib/python3.8/site-packages/pandas/core/indexing.py:1765: SettingWithCopyWarning: \n",
      "A value is trying to be set on a copy of a slice from a DataFrame.\n",
      "Try using .loc[row_indexer,col_indexer] = value instead\n",
      "\n",
      "See the caveats in the documentation: https://pandas.pydata.org/pandas-docs/stable/user_guide/indexing.html#returning-a-view-versus-a-copy\n",
      "  isetter(loc, value)\n"
     ]
    },
    {
     "name": "stdout",
     "output_type": "stream",
     "text": [
      "Train:\n",
      "      label                                                 v2\n",
      "2255      0        i just lov this line hurt me with the truth\n",
      "2211      0  just gettin a bit arty with my collages at the...\n",
      "1325      0                yeah jay s sort of a fucking retard\n",
      "3558      1  urgent we are trying to contact u todays draw ...\n",
      "2947      0  nope but i ll b going sch on fri quite early l...\n",
      "Test:\n",
      "      label                                                 v2\n",
      "413       0                            bring home some wendy d\n",
      "1450      0                           msg me when rajini comes\n",
      "2641      1  you are guaranteed the latest nokia phone a gb...\n",
      "3538      0        what happen dear why you silent i am tensed\n",
      "109       0                       dont worry i guess he s busy\n"
     ]
    }
   ],
   "source": [
    "def preprocess(df: pd.DataFrame) -> pd.DataFrame:\n",
    "    \n",
    "    for i in range(len(df)):\n",
    "        # make all content to lowercase\n",
    "        ###<your code>###\n",
    "\n",
    "        # remove all punctuations\n",
    "        ###<your code>###\n",
    "        sentence = df['v2'].values[i]\n",
    "        sentence = sentence.lower()\n",
    "\n",
    "        #移除標點符號(可以依據使用狀況決定是否要移除標點符號)\n",
    "        pattern = r'[a-zA-Z]+'\n",
    "        sentence = re.findall(pattern, sentence)\n",
    "        df.iloc[i,1] = \" \".join(sentence)\n",
    "        \n",
    "    return df\n",
    "\n",
    "processed_train = preprocess(sms_train)\n",
    "processed_test = preprocess(sms_test)\n",
    "\n",
    "print(\"Train:\")\n",
    "print(processed_train.head())\n",
    "print(\"Test:\")\n",
    "print(processed_test.head())"
   ]
  },
  {
   "cell_type": "code",
   "execution_count": 11,
   "metadata": {},
   "outputs": [
    {
     "data": {
      "text/plain": [
       "7708"
      ]
     },
     "execution_count": 11,
     "metadata": {},
     "output_type": "execute_result"
    }
   ],
   "source": [
    "\n",
    "# split data into x_train, y_train, x_test, y_test\n",
    "y_train, x_train = zip(*processed_train.values)\n",
    "y_test, x_test = zip(*processed_test.values)\n",
    "\n",
    "# check numbers of unique word in the corpus\n",
    "len(set(\" \".join(list(x_train + x_test)).split()))"
   ]
  },
  {
   "cell_type": "markdown",
   "metadata": {},
   "source": [
    "### TF-IDF\n",
    "可以發現種共有7708個字詞，這裡使用TF-IDF將來選取最高分的前2000個字詞\n",
    "(若忘記的學員可參考先前TF-IDF課程章節或[此篇教學](https://ithelp.ithome.com.tw/articles/10228815?sc=iThelpR))"
   ]
  },
  {
   "cell_type": "code",
   "execution_count": 12,
   "metadata": {},
   "outputs": [
    {
     "name": "stdout",
     "output_type": "stream",
     "text": [
      "Number of unique word: 2000\n"
     ]
    },
    {
     "data": {
      "text/plain": [
       "(<4457x2000 sparse matrix of type '<class 'numpy.float64'>'\n",
       " \twith 50803 stored elements in Compressed Sparse Row format>,\n",
       " <1115x2000 sparse matrix of type '<class 'numpy.float64'>'\n",
       " \twith 12835 stored elements in Compressed Sparse Row format>)"
      ]
     },
     "execution_count": 12,
     "metadata": {},
     "output_type": "execute_result"
    }
   ],
   "source": [
    "vectorizer = TfidfVectorizer(max_features=2000)\n",
    "vectorizer.fit(list(x_train + x_test))\n",
    "tfidf_train = vectorizer.transform(x_train)\n",
    "tfidf_test= vectorizer.transform(x_test)\n",
    "print(f\"Number of unique word: {len(vectorizer.vocabulary_)}\")\n",
    "(tfidf_train, tfidf_test)\n"
   ]
  },
  {
   "cell_type": "markdown",
   "metadata": {},
   "source": [
    "### 建立共現矩陣"
   ]
  },
  {
   "cell_type": "code",
   "execution_count": 13,
   "metadata": {},
   "outputs": [
    {
     "name": "stdout",
     "output_type": "stream",
     "text": [
      "finishing 501/4457\n",
      "finishing 1001/4457\n",
      "finishing 1501/4457\n",
      "finishing 2001/4457\n",
      "finishing 2501/4457\n",
      "finishing 3001/4457\n",
      "finishing 3501/4457\n",
      "finishing 4001/4457\n",
      "Done\n"
     ]
    },
    {
     "data": {
      "text/plain": [
       "array([[1., 0., 0., ..., 0., 0., 0.],\n",
       "       [0., 1., 0., ..., 0., 0., 0.],\n",
       "       [0., 0., 1., ..., 0., 0., 0.],\n",
       "       ...,\n",
       "       [0., 0., 0., ..., 1., 0., 0.],\n",
       "       [0., 0., 0., ..., 0., 1., 0.],\n",
       "       [0., 0., 0., ..., 0., 0., 1.]])"
      ]
     },
     "execution_count": 13,
     "metadata": {},
     "output_type": "execute_result"
    }
   ],
   "source": [
    "def create_co_matrix(corpus: List[str], vocab_list: List[str], word2idx: dict,\n",
    "                     window_size: int=1, use_weighting: bool=False, verbose: bool=False) -> np.ndarray:\n",
    "    '''Function to create co-occurrence matrix\n",
    "    '''\n",
    "    #initialize co-occurrence matrix\n",
    "    vocab_size = len(vocab_list)\n",
    "    co_matrix = np.zeros(shape=(vocab_size, vocab_size))\n",
    "    \n",
    "    for idx, sms in enumerate(corpus):\n",
    "        sms = sms.split()\n",
    "        sms_ids = [word2idx[word] for word in sms if word in vocab_list] #tokenize\n",
    "        \n",
    "        for center_i, center_word_id in enumerate(sms_ids):\n",
    "            context_ids = sms_ids[max(0, center_i - window_size):center_word_id]\n",
    "            content_len = len(context_ids)\n",
    "            \n",
    "            for left_i, left_word_id in enumerate(context_ids):\n",
    "                if use_weighting:\n",
    "                    distance = content_len - left_i\n",
    "                    increment = 1./float(distance)\n",
    "                else:\n",
    "                    increment = 1\n",
    "                co_matrix[center_word_id, left_word_id] += increment\n",
    "                co_matrix[left_word_id, center_word_id] += increment\n",
    "                \n",
    "        if verbose:\n",
    "            if idx != 0 and idx%500 == 0:\n",
    "                    print(f\"finishing {idx+1}/{len(corpus)}\")\n",
    "    print(\"Done\")\n",
    "    if use_weighting:\n",
    "        # if use weighting, then we set the co-occurrence with the word itself to 1.0\n",
    "        np.fill_diagonal(co_matrix, 1.)\n",
    "        \n",
    "    return co_matrix\n",
    "\n",
    "co_matrix = create_co_matrix(x_train, vectorizer.get_feature_names(), vectorizer.vocabulary_,\n",
    "                            window_size=3, use_weighting=True, verbose=True)\n",
    "\n",
    "co_matrix"
   ]
  },
  {
   "cell_type": "markdown",
   "metadata": {},
   "source": [
    "### 建立PPMI矩陣"
   ]
  },
  {
   "cell_type": "code",
   "execution_count": 14,
   "metadata": {},
   "outputs": [
    {
     "name": "stderr",
     "output_type": "stream",
     "text": [
      "<ipython-input-14-a160d5082d4e>:11: RuntimeWarning: divide by zero encountered in log2\n",
      "  pmi = np.log2(co_matrix[i, j]*N / (S[i]*S[j] + eps))\n"
     ]
    },
    {
     "data": {
      "text/plain": [
       "array([[12.665759 ,  0.       ,  0.       , ...,  0.       ,  0.       ,\n",
       "         0.       ],\n",
       "       [ 0.       ,  3.5892673,  0.       , ...,  0.       ,  0.       ,\n",
       "         0.       ],\n",
       "       [ 0.       ,  0.       ,  7.2194552, ...,  0.       ,  0.       ,\n",
       "         0.       ],\n",
       "       ...,\n",
       "       [ 0.       ,  0.       ,  0.       , ..., 10.527114 ,  0.       ,\n",
       "         0.       ],\n",
       "       [ 0.       ,  0.       ,  0.       , ...,  0.       ,  4.692409 ,\n",
       "         0.       ],\n",
       "       [ 0.       ,  0.       ,  0.       , ...,  0.       ,  0.       ,\n",
       "         6.739044 ]], dtype=float32)"
      ]
     },
     "execution_count": 14,
     "metadata": {},
     "output_type": "execute_result"
    }
   ],
   "source": [
    "#定義正向點間互資訊\n",
    "\n",
    "def ppmi(co_matrix: np.ndarray, eps: float=1e-8, verbose: bool=False):\n",
    "    M = np.zeros_like(co_matrix, dtype=np.float32)\n",
    "    N = np.sum(co_matrix)\n",
    "    S = np.sum(co_matrix, axis=0)\n",
    "    total = co_matrix.shape[0]*co_matrix.shape[1]\n",
    "    \n",
    "    for i in range(co_matrix.shape[0]):\n",
    "        for j in range(co_matrix.shape[1]):\n",
    "            pmi = np.log2(co_matrix[i, j]*N / (S[i]*S[j] + eps))\n",
    "            M[i, j] = max(0, pmi)\n",
    "            \n",
    "            if verbose:\n",
    "                cnt += 1\n",
    "                if cnt % 10 == 0 or cnt == total:\n",
    "                    print(f\"{cnt}/{total} Done\")\n",
    "    \n",
    "    return M\n",
    "\n",
    "ppmi_matrix = ppmi(co_matrix, verbose=False)\n",
    "ppmi_matrix"
   ]
  },
  {
   "cell_type": "markdown",
   "metadata": {},
   "source": [
    "### 使用SVD降維\n",
    "利用sklearn中的TruncatedSVD對co-occurrence matrix進行降維，並利用variance來找出最適合的維度\n",
    "[參考文獻](https://medium.com/swlh/truncated-singular-value-decomposition-svd-using-amazon-food-reviews-891d97af5d8d)\n",
    "\n",
    "(讀者可以嘗試使用SVD對PPMI進行降維)"
   ]
  },
  {
   "cell_type": "code",
   "execution_count": 15,
   "metadata": {},
   "outputs": [
    {
     "name": "stdout",
     "output_type": "stream",
     "text": [
      "Number of components = 10 and explained variance = 0.8659130189852158\n",
      "Number of components = 20 and explained variance = 0.9019692429340243\n",
      "Number of components = 30 and explained variance = 0.9194358694849286\n",
      "Number of components = 40 and explained variance = 0.9312806265825093\n",
      "Number of components = 50 and explained variance = 0.9399140468689827\n",
      "Number of components = 60 and explained variance = 0.9468633560228541\n",
      "Number of components = 70 and explained variance = 0.952538902137991\n",
      "Number of components = 80 and explained variance = 0.9572120254281626\n",
      "Number of components = 90 and explained variance = 0.9611062676575173\n",
      "Number of components = 100 and explained variance = 0.964446867590747\n",
      "Number of components = 110 and explained variance = 0.9673519945742518\n",
      "Number of components = 120 and explained variance = 0.9699276058989141\n",
      "Number of components = 130 and explained variance = 0.9721880221094975\n",
      "Number of components = 140 and explained variance = 0.9741760914119696\n"
     ]
    },
    {
     "data": {
      "image/png": "[encoded data removed]",
      "text/plain": [
       "<Figure size 432x288 with 1 Axes>"
      ]
     },
     "metadata": {
      "needs_background": "light"
     },
     "output_type": "display_data"
    }
   ],
   "source": [
    "# Program to find the optimal number of components for Truncated SVD\n",
    "n_comp = range(10,150,10) # list containing different values of components\n",
    "variance_sum = [] # explained variance ratio for each component of Truncated SVD\n",
    "\n",
    "for dim in n_comp:\n",
    "    ###<your code>###\n",
    "    svd = TruncatedSVD(n_components=dim)\n",
    "    svd.fit(co_matrix)\n",
    "    variance_sum.append(svd.explained_variance_ratio_.sum())\n",
    "    print(f\"Number of components = {dim} and explained variance = {svd.explained_variance_ratio_.sum()}\")\n",
    "    \n",
    "plt.plot(n_comp, variance_sum)\n",
    "plt.xlabel('Number of components')\n",
    "plt.ylabel(\"Explained Variance\")\n",
    "plt.title(\"Plot of Number of components v/s explained variance\")\n",
    "plt.show()"
   ]
  },
  {
   "cell_type": "code",
   "execution_count": 16,
   "metadata": {},
   "outputs": [],
   "source": [
    "# choose 140 as final dimension to reduce to \n",
    "# 利用上述找到的最適合dimension來對co-occurrence matrix進行降維\n",
    "svd = TruncatedSVD(n_components=140)\n",
    "svd.fit(co_matrix)\n",
    "re_co_matrix = svd.transform(co_matrix)"
   ]
  },
  {
   "cell_type": "markdown",
   "metadata": {},
   "source": [
    "### 使用KNN模型進行分類\n",
    "在進行分類之前，先利用簡單的詞向量平均來計算文本向量\n",
    "\n",
    "[參考文獻](https://medium.com/ai-academy-taiwan/nlp-%E4%B8%8D%E5%90%8C%E8%A9%9E%E5%90%91%E9%87%8F%E5%9C%A8%E6%96%87%E6%9C%AC%E5%88%86%E9%A1%9E%E4%B8%8A%E7%9A%84%E8%A1%A8%E7%8F%BE%E8%88%87%E5%AF%A6%E4%BD%9C-e72a2daecfc)"
   ]
  },
  {
   "cell_type": "code",
   "execution_count": 17,
   "metadata": {
    "scrolled": true
   },
   "outputs": [
    {
     "name": "stdout",
     "output_type": "stream",
     "text": [
      "document 631 doesn't contain word in vocab_list\n",
      "garbage bags eggs jam bread hannaford wheat chex\n",
      "\n",
      "\n",
      "document 1033 doesn't contain word in vocab_list\n",
      "k k congratulation\n",
      "\n",
      "\n",
      "document 1223 doesn't contain word in vocab_list\n",
      "beerage\n",
      "\n",
      "\n",
      "document 1483 doesn't contain word in vocab_list\n",
      "erutupalam thandiyachu\n",
      "\n",
      "\n",
      "document 1839 doesn't contain word in vocab_list\n",
      "raviyog peripherals bhayandar east\n",
      "\n",
      "\n",
      "document 1944 doesn't contain word in vocab_list\n",
      "ringtoneking\n",
      "\n",
      "\n",
      "document 2872 doesn't contain word in vocab_list\n",
      "ultimately tor motive tui achieve korli\n",
      "\n",
      "\n",
      "document 2941 doesn't contain word in vocab_list\n",
      "tf p\n",
      "\n",
      "\n",
      "document 3036 doesn't contain word in vocab_list\n",
      "g w r\n",
      "\n",
      "\n",
      "document 3147 doesn't contain word in vocab_list\n",
      "\n",
      "\n",
      "\n",
      "document 3483 doesn't contain word in vocab_list\n",
      "east coast\n",
      "\n",
      "\n",
      "document 3660 doesn't contain word in vocab_list\n",
      "hanks lotsly\n",
      "\n",
      "\n",
      "document 3711 doesn't contain word in vocab_list\n",
      "audrie lousy autocorrect\n",
      "\n",
      "\n",
      "document 3862 doesn't contain word in vocab_list\n",
      "received understood n acted upon\n",
      "\n",
      "\n",
      "document 3938 doesn't contain word in vocab_list\n",
      "\n",
      "\n",
      "\n",
      "==================================================\n",
      "document 314 doesn't contain word in vocab_list\n",
      "u\n",
      "\n",
      "\n",
      "document 1038 doesn't contain word in vocab_list\n",
      "\n",
      "\n",
      "\n"
     ]
    }
   ],
   "source": [
    "# get doc vector via take mean of all word vectors inside the corresponding document\n",
    "\n",
    "def make_doc_vectors(corpus: List[str], word2idx: dict, vocab_list: List) -> List[np.ndarray]:\n",
    "    \n",
    "    # vectorizing data \n",
    "    # and make document vector by take mean to all word vecto\n",
    "    doc_vec = []\n",
    "    empty_doc_list = []\n",
    "    for i, sms_msg in enumerate(corpus):\n",
    "        sms_msg = [word2idx[word] for word in sms_msg.split() if word in vocab_list] #tokenize\n",
    "        if len(sms_msg) > 0:\n",
    "            sms_msg = np.array([re_co_matrix[ids] for ids in sms_msg]) #vectorize\n",
    "            doc_vec.append(sms_msg.mean(axis=0))\n",
    "        else:\n",
    "            empty_doc_list.append(i)\n",
    "            print(f\"document {i} doesn't contain word in vocab_list\")\n",
    "            print(corpus[i])\n",
    "            print(\"\\n\")\n",
    "        \n",
    "    return np.vstack(doc_vec), empty_doc_list\n",
    "\n",
    "word2idx = vectorizer.vocabulary_\n",
    "vocab_list = vectorizer.get_feature_names()\n",
    "\n",
    "doc_vec_train, missing_train_list = make_doc_vectors(x_train, word2idx, vocab_list)\n",
    "print(\"=\"*50)\n",
    "doc_vec_test, missing_test_list = make_doc_vectors(x_test, word2idx, vocab_list)"
   ]
  },
  {
   "cell_type": "code",
   "execution_count": 18,
   "metadata": {},
   "outputs": [],
   "source": [
    "from sklearn.neighbors import KNeighborsClassifier\n",
    "\n",
    "# training\n",
    "y_train_filter = np.delete(np.array(y_train), missing_train_list)\n",
    "\n",
    "knn = KNeighborsClassifier(n_neighbors=5)\n",
    "knn.fit(doc_vec_train, y_train_filter)\n",
    "train_pred = knn.predict(doc_vec_train)\n",
    "\n",
    "# testing\n",
    "y_test_filter = np.delete(np.array(y_test), missing_test_list)\n",
    "###<your code>###\n",
    "test_pred = knn.predict(doc_vec_test)"
   ]
  },
  {
   "cell_type": "code",
   "execution_count": 19,
   "metadata": {},
   "outputs": [
    {
     "name": "stdout",
     "output_type": "stream",
     "text": [
      "train acc: 0.9725348941918055\n",
      "train acc: 0.9568733153638814\n"
     ]
    }
   ],
   "source": [
    "print(f\"train acc: {np.sum(train_pred == y_train_filter) / len(y_train_filter)}\")\n",
    "print(f\"train acc: {np.sum(test_pred == y_test_filter) / len(y_test_filter)}\")"
   ]
  },
  {
   "cell_type": "code",
   "execution_count": null,
   "metadata": {},
   "outputs": [],
   "source": []
  }
 ],
 "metadata": {
  "kernelspec": {
   "display_name": "Python 3",
   "language": "python",
   "name": "python3"
  },
  "language_info": {
   "codemirror_mode": {
    "name": "ipython",
    "version": 3
   },
   "file_extension": ".py",
   "mimetype": "text/x-python",
   "name": "python",
   "nbconvert_exporter": "python",
   "pygments_lexer": "ipython3",
   "version": "3.8.5"
  }
 },
 "nbformat": 4,
 "nbformat_minor": 2
}
