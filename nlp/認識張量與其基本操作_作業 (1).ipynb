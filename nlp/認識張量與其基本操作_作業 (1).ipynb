{
  "nbformat": 4,
  "nbformat_minor": 0,
  "metadata": {
    "kernelspec": {
      "display_name": "pytorch_env",
      "language": "python",
      "name": "pytorch_env"
    },
    "language_info": {
      "codemirror_mode": {
        "name": "ipython",
        "version": 3
      },
      "file_extension": ".py",
      "mimetype": "text/x-python",
      "name": "python",
      "nbconvert_exporter": "python",
      "pygments_lexer": "ipython3",
      "version": "3.7.3"
    },
    "colab": {
      "name": "認識張量與其基本操作_作業.ipynb",
      "provenance": []
    }
  },
  "cells": [
    {
      "cell_type": "markdown",
      "metadata": {
        "id": "ixIXab0lmfvI"
      },
      "source": [
        "### 作業目的: 更加熟習pytorch的tensor操作\n",
        "\n",
        "pytorch中有提供很多的API，讓使用者針對tensor進行各式各樣的操作，本次的作業希望讀者由pytorch的[官方網站](https://pytorch.org/docs/stable/torch.html)中選定四個針對tensor操作的API，對他的使用方法進行範例操作演練。"
      ]
    },
    {
      "cell_type": "markdown",
      "metadata": {
        "id": "G4L45rPrmfvP"
      },
      "source": [
        "### 選定的API 函數\n",
        "\n",
        "**請寫下選定的API functions**\n",
        "\n",
        "ex:\n",
        "* torch.from_array() / tensor.numpy()\n",
        "* torch.unsqueeze() / torch.squeeze()\n",
        "* tensor.transpose() / tensor.permute()\n",
        "* torch.reshape() / tensor.view()"
      ]
    },
    {
      "cell_type": "code",
      "metadata": {
        "id": "7UYYt9qAmfvQ"
      },
      "source": [
        "# Import torch and other required modules\n",
        "import torch\n",
        "import numpy as np"
      ],
      "execution_count": 2,
      "outputs": []
    },
    {
      "cell_type": "markdown",
      "metadata": {
        "id": "BqSDXcibmfvQ"
      },
      "source": [
        "### 範例:\n",
        "### Function 1 - torch.from_array() / tensor.numpy()"
      ]
    },
    {
      "cell_type": "code",
      "metadata": {
        "colab": {
          "base_uri": "https://localhost:8080/"
        },
        "id": "0b1wS90fmfvR",
        "outputId": "1472d740-ba48-40cf-e0b5-a7dc9bdbda9f"
      },
      "source": [
        "# Example 1 - 將torch tensor與numpy ndarray互相轉換\n",
        "a = np.random.rand(1,2,3,3)\n",
        "print(f'a: {type(a)}, {a.dtype}')\n",
        "b = torch.from_numpy(a)\n",
        "print(f'b: {type(b)}, {b.dtype}')\n",
        "c = torch.tensor(a)\n",
        "print(f'c: {type(c)}, {c.dtype}')\n",
        "d = c.numpy()\n",
        "print(f'd: {type(d)}, {d.dtype}')"
      ],
      "execution_count": 3,
      "outputs": [
        {
          "output_type": "stream",
          "text": [
            "a: <class 'numpy.ndarray'>, float64\n",
            "b: <class 'torch.Tensor'>, torch.float64\n",
            "c: <class 'torch.Tensor'>, torch.float64\n",
            "d: <class 'numpy.ndarray'>, float64\n"
          ],
          "name": "stdout"
        }
      ]
    },
    {
      "cell_type": "code",
      "metadata": {
        "colab": {
          "base_uri": "https://localhost:8080/"
        },
        "id": "MylHLDjGmfvS",
        "outputId": "0781205f-e079-4494-f651-9afeb9a00b6d"
      },
      "source": [
        "# Example 2 - 經過轉換後，torch tensor與numpy array依然有相近的資料型態\n",
        "a = np.random.randint(low=0, high=10, size=(2,2))\n",
        "print(f'a: {type(a)}, {a.dtype}')\n",
        "b = torch.from_numpy(a)\n",
        "print(f'b: {type(b)}, {b.dtype}')\n",
        "c = torch.tensor(a)\n",
        "print(f'c: {type(c)}, {c.dtype}')\n",
        "d = c.numpy()\n",
        "print(f'd: {type(d)}, {d.dtype}')"
      ],
      "execution_count": 4,
      "outputs": [
        {
          "output_type": "stream",
          "text": [
            "a: <class 'numpy.ndarray'>, int64\n",
            "b: <class 'torch.Tensor'>, torch.int64\n",
            "c: <class 'torch.Tensor'>, torch.int64\n",
            "d: <class 'numpy.ndarray'>, int64\n"
          ],
          "name": "stdout"
        }
      ]
    },
    {
      "cell_type": "markdown",
      "metadata": {
        "id": "JxfT6NydmfvS"
      },
      "source": [
        "### Function 1 - *your function to illustrate*"
      ]
    },
    {
      "cell_type": "code",
      "metadata": {
        "colab": {
          "base_uri": "https://localhost:8080/"
        },
        "id": "1oN0ZNZamfvT",
        "outputId": "06f5f179-dc4d-4c2e-b7b7-5e41eb55f98f"
      },
      "source": [
        "# Example 1 - ### your explanation ###\n",
        "\n",
        "c = torch.randint(low=0, high=10, size=(3,2))\n",
        "d = torch.randint(low=0, high=10, size=(2,2))\n",
        "print(c)\n",
        "print(d)\n",
        "t_matmul4 = c @ d\n",
        "print(t_matmul4)"
      ],
      "execution_count": 12,
      "outputs": [
        {
          "output_type": "stream",
          "text": [
            "tensor([[9, 0],\n",
            "        [9, 9],\n",
            "        [7, 7]])\n",
            "tensor([[6, 3],\n",
            "        [5, 0]])\n",
            "tensor([[54, 27],\n",
            "        [99, 27],\n",
            "        [77, 21]])\n"
          ],
          "name": "stdout"
        }
      ]
    },
    {
      "cell_type": "code",
      "metadata": {
        "id": "j49ZZglimfvT"
      },
      "source": [
        "# Example 2 - ### your explanation ###\n",
        "### your code ###"
      ],
      "execution_count": null,
      "outputs": []
    },
    {
      "cell_type": "markdown",
      "metadata": {
        "id": "hbhWItwcmfvT"
      },
      "source": [
        "### Function 2 - your function to illustrate"
      ]
    },
    {
      "cell_type": "code",
      "metadata": {
        "id": "MovCOLIPmfvU"
      },
      "source": [
        "# Example 1 - ### your explanation ###\n",
        "### your code ###"
      ],
      "execution_count": null,
      "outputs": []
    },
    {
      "cell_type": "code",
      "metadata": {
        "id": "Bl16f46imfvU"
      },
      "source": [
        "# Example 2 - ### your explanation ###\n",
        "### your code ###"
      ],
      "execution_count": null,
      "outputs": []
    },
    {
      "cell_type": "markdown",
      "metadata": {
        "id": "Hx0NbmJvmfvU"
      },
      "source": [
        "### Function 3 - your function to illustrate"
      ]
    },
    {
      "cell_type": "code",
      "metadata": {
        "id": "mZfAZh17mfvU"
      },
      "source": [
        "# Example 1 - ### your explanation ###\n",
        "### your code ###"
      ],
      "execution_count": null,
      "outputs": []
    },
    {
      "cell_type": "code",
      "metadata": {
        "id": "baiAtY13mfvV"
      },
      "source": [
        "# Example 2 - ### your explanation ###\n",
        "### your code ###"
      ],
      "execution_count": null,
      "outputs": []
    },
    {
      "cell_type": "markdown",
      "metadata": {
        "id": "IiIg5vkhmfvV"
      },
      "source": [
        "### Function 4 - your function to illustrate"
      ]
    },
    {
      "cell_type": "code",
      "metadata": {
        "id": "GwGscpgumfvV"
      },
      "source": [
        "# Example 1 - ### your explanation ###\n",
        "### your code ###"
      ],
      "execution_count": null,
      "outputs": []
    },
    {
      "cell_type": "code",
      "metadata": {
        "id": "afD9ogYJmfvV"
      },
      "source": [
        "# Example 2 - ### your explanation ###\n",
        "### your code ###"
      ],
      "execution_count": null,
      "outputs": []
    },
    {
      "cell_type": "code",
      "metadata": {
        "id": "C7DffbvMmfvV"
      },
      "source": [
        ""
      ],
      "execution_count": null,
      "outputs": []
    }
  ]
}